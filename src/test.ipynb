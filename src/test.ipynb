{
 "cells": [
  {
   "cell_type": "code",
   "execution_count": 6,
   "metadata": {},
   "outputs": [
    {
     "name": "stdout",
     "output_type": "stream",
     "text": [
      "Merged audio with adjusted vocals saved successfully.\n"
     ]
    }
   ],
   "source": [
    "import librosa\n",
    "import soundfile as sf\n",
    "\n",
    "vocals, sr_vocals = librosa.load('./processed_songs/shapeofyou/shapeofyou_Vocals.wav')\n",
    "instrumentals, sr_instrumentals = librosa.load('./processed_songs/shapeofyou/shapeofyou_Instruments.wav')\n",
    "\n",
    "volume_factor = 0.15 \n",
    "vocals_adjusted = vocals * volume_factor\n",
    "\n",
    "merged_audio = vocals_adjusted + instrumentals\n",
    "\n",
    "output_file = './processed_songs/shapeofyou/shapeofyou_vocals_reduced.wav'\n",
    "sf.write(output_file, merged_audio, sr_vocals)"
   ]
  },
  {
   "cell_type": "code",
   "execution_count": null,
   "metadata": {},
   "outputs": [],
   "source": []
  }
 ],
 "metadata": {
  "kernelspec": {
   "display_name": "karaoke_no_git",
   "language": "python",
   "name": "python3"
  },
  "language_info": {
   "codemirror_mode": {
    "name": "ipython",
    "version": 3
   },
   "file_extension": ".py",
   "mimetype": "text/x-python",
   "name": "python",
   "nbconvert_exporter": "python",
   "pygments_lexer": "ipython3",
   "version": "3.9.18"
  }
 },
 "nbformat": 4,
 "nbformat_minor": 2
}
